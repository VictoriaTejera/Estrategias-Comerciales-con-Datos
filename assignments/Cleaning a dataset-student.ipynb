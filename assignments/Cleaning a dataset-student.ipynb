{
  "cells": [
    {
      "cell_type": "markdown",
      "id": "674bf554",
      "metadata": {
        "id": "674bf554"
      },
      "source": [
        "# Objective\n",
        "\n",
        "The objective of this notebook is get hands-on experience on cleaning a \"dirty\" dataset.\n",
        "Often, datasets are created from \"free-text\" fields. In free-text fields, data validation is not enforced and as a result, many conventions co-exist within the same column of data.\n",
        "Dirty data can also ocurr when collection information from different sources. If these sources use different conventions to represent such data, additional efforts are required to homogenize it at a later stage."
      ]
    },
    {
      "cell_type": "markdown",
      "id": "1152bf95",
      "metadata": {
        "id": "1152bf95"
      },
      "source": [
        "## Setup"
      ]
    },
    {
      "cell_type": "code",
      "execution_count": 1,
      "id": "5b53eadb",
      "metadata": {
        "id": "5b53eadb"
      },
      "outputs": [],
      "source": [
        "!pip install -q eccd_datasets pygradus"
      ]
    },
    {
      "cell_type": "code",
      "execution_count": 2,
      "id": "19846000",
      "metadata": {
        "id": "19846000"
      },
      "outputs": [],
      "source": [
        "STUDENT_NAME = \"victoria-tejera\"\n",
        "COURSE_NAME = \"eccd-oct22\"\n",
        "EXERCISE_NAME = \"cleaning-a-dataset\""
      ]
    },
    {
      "cell_type": "code",
      "execution_count": 3,
      "id": "f11da1ed",
      "metadata": {
        "id": "f11da1ed"
      },
      "outputs": [],
      "source": [
        "import pandas as pd\n",
        "import numpy as np\n",
        "from eccd_datasets import load_lingerie\n",
        "from pygradus import create_exercise, check_solution\n",
        "import re"
      ]
    },
    {
      "cell_type": "code",
      "execution_count": 4,
      "id": "2c892017",
      "metadata": {
        "id": "2c892017"
      },
      "outputs": [],
      "source": [
        "datasets = load_lingerie()"
      ]
    },
    {
      "cell_type": "code",
      "execution_count": 5,
      "id": "354f9363",
      "metadata": {
        "colab": {
          "base_uri": "https://localhost:8080/"
        },
        "id": "354f9363",
        "outputId": "8de51142-6890-4770-f6f5-896eee5c588d"
      },
      "outputs": [
        {
          "output_type": "execute_result",
          "data": {
            "text/plain": [
              "dict_keys(['ae_com', 'amazon_com', 'btemptd_com', 'calvinklein_com', 'hankypanky_com', 'macys_com', 'shop_nordstrom_com', 'us_topshop_com', 'victoriassecret_com'])"
            ]
          },
          "metadata": {},
          "execution_count": 5
        }
      ],
      "source": [
        "datasets.keys()"
      ]
    },
    {
      "cell_type": "markdown",
      "id": "b35444ec",
      "metadata": {
        "id": "b35444ec"
      },
      "source": [
        "## The different datasets on their own"
      ]
    },
    {
      "cell_type": "code",
      "execution_count": 6,
      "id": "ae92205d",
      "metadata": {
        "colab": {
          "base_uri": "https://localhost:8080/",
          "height": 617
        },
        "id": "ae92205d",
        "outputId": "7ebfc370-ba3c-4fce-b016-39984675d8bd"
      },
      "outputs": [
        {
          "output_type": "execute_result",
          "data": {
            "text/plain": [
              "                       product_name        mrp      price  \\\n",
              "0  Aerie Everyday Loves Lace Cheeky  12.50 USD  12.50 USD   \n",
              "1  Aerie Everyday Loves Lace Cheeky  12.50 USD  12.50 USD   \n",
              "2  Aerie Everyday Loves Lace Cheeky  12.50 USD  12.50 USD   \n",
              "3  Aerie Everyday Loves Lace Cheeky  12.50 USD  12.50 USD   \n",
              "4  Aerie Everyday Loves Lace Cheeky  12.50 USD  12.50 USD   \n",
              "\n",
              "                                             pdp_url brand_name  \\\n",
              "0  https://www.ae.com/aerie-everyday-loves-lace-c...      AERIE   \n",
              "1  https://www.ae.com/aerie-everyday-loves-lace-c...      AERIE   \n",
              "2  https://www.ae.com/aerie-everyday-loves-lace-c...      AERIE   \n",
              "3  https://www.ae.com/aerie-everyday-loves-lace-c...      AERIE   \n",
              "4  https://www.ae.com/aerie-everyday-loves-lace-c...      AERIE   \n",
              "\n",
              "  product_category retailer  \\\n",
              "0         Cheekies    Ae US   \n",
              "1         Cheekies    Ae US   \n",
              "2         Cheekies    Ae US   \n",
              "3         Cheekies    Ae US   \n",
              "4         Cheekies    Ae US   \n",
              "\n",
              "                                         description  rating  review_count  \\\n",
              "0  Introducing Everyday Loves™: Made with love. E...     5.0           8.0   \n",
              "1  Introducing Everyday Loves™: Made with love. E...     5.0           8.0   \n",
              "2  Introducing Everyday Loves™: Made with love. E...     5.0           8.0   \n",
              "3  Introducing Everyday Loves™: Made with love. E...     5.0           8.0   \n",
              "4  Introducing Everyday Loves™: Made with love. E...     5.0           8.0   \n",
              "\n",
              "                                    style_attributes  \\\n",
              "0  [\"Soft lace with the right amount of stretch\",...   \n",
              "1  [\"Soft lace with the right amount of stretch\",...   \n",
              "2  [\"Soft lace with the right amount of stretch\",...   \n",
              "3  [\"Soft lace with the right amount of stretch\",...   \n",
              "4  [\"Soft lace with the right amount of stretch\",...   \n",
              "\n",
              "                          total_sizes                      available_size  \\\n",
              "0  [\"XS\", \"S\", \"M\", \"L\", \"XL\", \"XXL\"]  [\"XS\", \"S\", \"M\", \"L\", \"XL\", \"XXL\"]   \n",
              "1  [\"XS\", \"S\", \"M\", \"L\", \"XL\", \"XXL\"]  [\"XS\", \"S\", \"M\", \"L\", \"XL\", \"XXL\"]   \n",
              "2  [\"XS\", \"S\", \"M\", \"L\", \"XL\", \"XXL\"]  [\"XS\", \"S\", \"M\", \"L\", \"XL\", \"XXL\"]   \n",
              "3  [\"XS\", \"S\", \"M\", \"L\", \"XL\", \"XXL\"]  [\"XS\", \"S\", \"M\", \"L\", \"XL\", \"XXL\"]   \n",
              "4  [\"XS\", \"S\", \"M\", \"L\", \"XL\", \"XXL\"]  [\"XS\", \"S\", \"M\", \"L\", \"XL\", \"XXL\"]   \n",
              "\n",
              "          color  \n",
              "0  Rugged Green  \n",
              "1  Natural Nude  \n",
              "2    True Black  \n",
              "3         White  \n",
              "4    Royal Navy  "
            ],
            "text/html": [
              "\n",
              "  <div id=\"df-1ebb8070-6844-48db-bad5-f53a1dc38059\">\n",
              "    <div class=\"colab-df-container\">\n",
              "      <div>\n",
              "<style scoped>\n",
              "    .dataframe tbody tr th:only-of-type {\n",
              "        vertical-align: middle;\n",
              "    }\n",
              "\n",
              "    .dataframe tbody tr th {\n",
              "        vertical-align: top;\n",
              "    }\n",
              "\n",
              "    .dataframe thead th {\n",
              "        text-align: right;\n",
              "    }\n",
              "</style>\n",
              "<table border=\"1\" class=\"dataframe\">\n",
              "  <thead>\n",
              "    <tr style=\"text-align: right;\">\n",
              "      <th></th>\n",
              "      <th>product_name</th>\n",
              "      <th>mrp</th>\n",
              "      <th>price</th>\n",
              "      <th>pdp_url</th>\n",
              "      <th>brand_name</th>\n",
              "      <th>product_category</th>\n",
              "      <th>retailer</th>\n",
              "      <th>description</th>\n",
              "      <th>rating</th>\n",
              "      <th>review_count</th>\n",
              "      <th>style_attributes</th>\n",
              "      <th>total_sizes</th>\n",
              "      <th>available_size</th>\n",
              "      <th>color</th>\n",
              "    </tr>\n",
              "  </thead>\n",
              "  <tbody>\n",
              "    <tr>\n",
              "      <th>0</th>\n",
              "      <td>Aerie Everyday Loves Lace Cheeky</td>\n",
              "      <td>12.50 USD</td>\n",
              "      <td>12.50 USD</td>\n",
              "      <td>https://www.ae.com/aerie-everyday-loves-lace-c...</td>\n",
              "      <td>AERIE</td>\n",
              "      <td>Cheekies</td>\n",
              "      <td>Ae US</td>\n",
              "      <td>Introducing Everyday Loves™: Made with love. E...</td>\n",
              "      <td>5.0</td>\n",
              "      <td>8.0</td>\n",
              "      <td>[\"Soft lace with the right amount of stretch\",...</td>\n",
              "      <td>[\"XS\", \"S\", \"M\", \"L\", \"XL\", \"XXL\"]</td>\n",
              "      <td>[\"XS\", \"S\", \"M\", \"L\", \"XL\", \"XXL\"]</td>\n",
              "      <td>Rugged Green</td>\n",
              "    </tr>\n",
              "    <tr>\n",
              "      <th>1</th>\n",
              "      <td>Aerie Everyday Loves Lace Cheeky</td>\n",
              "      <td>12.50 USD</td>\n",
              "      <td>12.50 USD</td>\n",
              "      <td>https://www.ae.com/aerie-everyday-loves-lace-c...</td>\n",
              "      <td>AERIE</td>\n",
              "      <td>Cheekies</td>\n",
              "      <td>Ae US</td>\n",
              "      <td>Introducing Everyday Loves™: Made with love. E...</td>\n",
              "      <td>5.0</td>\n",
              "      <td>8.0</td>\n",
              "      <td>[\"Soft lace with the right amount of stretch\",...</td>\n",
              "      <td>[\"XS\", \"S\", \"M\", \"L\", \"XL\", \"XXL\"]</td>\n",
              "      <td>[\"XS\", \"S\", \"M\", \"L\", \"XL\", \"XXL\"]</td>\n",
              "      <td>Natural Nude</td>\n",
              "    </tr>\n",
              "    <tr>\n",
              "      <th>2</th>\n",
              "      <td>Aerie Everyday Loves Lace Cheeky</td>\n",
              "      <td>12.50 USD</td>\n",
              "      <td>12.50 USD</td>\n",
              "      <td>https://www.ae.com/aerie-everyday-loves-lace-c...</td>\n",
              "      <td>AERIE</td>\n",
              "      <td>Cheekies</td>\n",
              "      <td>Ae US</td>\n",
              "      <td>Introducing Everyday Loves™: Made with love. E...</td>\n",
              "      <td>5.0</td>\n",
              "      <td>8.0</td>\n",
              "      <td>[\"Soft lace with the right amount of stretch\",...</td>\n",
              "      <td>[\"XS\", \"S\", \"M\", \"L\", \"XL\", \"XXL\"]</td>\n",
              "      <td>[\"XS\", \"S\", \"M\", \"L\", \"XL\", \"XXL\"]</td>\n",
              "      <td>True Black</td>\n",
              "    </tr>\n",
              "    <tr>\n",
              "      <th>3</th>\n",
              "      <td>Aerie Everyday Loves Lace Cheeky</td>\n",
              "      <td>12.50 USD</td>\n",
              "      <td>12.50 USD</td>\n",
              "      <td>https://www.ae.com/aerie-everyday-loves-lace-c...</td>\n",
              "      <td>AERIE</td>\n",
              "      <td>Cheekies</td>\n",
              "      <td>Ae US</td>\n",
              "      <td>Introducing Everyday Loves™: Made with love. E...</td>\n",
              "      <td>5.0</td>\n",
              "      <td>8.0</td>\n",
              "      <td>[\"Soft lace with the right amount of stretch\",...</td>\n",
              "      <td>[\"XS\", \"S\", \"M\", \"L\", \"XL\", \"XXL\"]</td>\n",
              "      <td>[\"XS\", \"S\", \"M\", \"L\", \"XL\", \"XXL\"]</td>\n",
              "      <td>White</td>\n",
              "    </tr>\n",
              "    <tr>\n",
              "      <th>4</th>\n",
              "      <td>Aerie Everyday Loves Lace Cheeky</td>\n",
              "      <td>12.50 USD</td>\n",
              "      <td>12.50 USD</td>\n",
              "      <td>https://www.ae.com/aerie-everyday-loves-lace-c...</td>\n",
              "      <td>AERIE</td>\n",
              "      <td>Cheekies</td>\n",
              "      <td>Ae US</td>\n",
              "      <td>Introducing Everyday Loves™: Made with love. E...</td>\n",
              "      <td>5.0</td>\n",
              "      <td>8.0</td>\n",
              "      <td>[\"Soft lace with the right amount of stretch\",...</td>\n",
              "      <td>[\"XS\", \"S\", \"M\", \"L\", \"XL\", \"XXL\"]</td>\n",
              "      <td>[\"XS\", \"S\", \"M\", \"L\", \"XL\", \"XXL\"]</td>\n",
              "      <td>Royal Navy</td>\n",
              "    </tr>\n",
              "  </tbody>\n",
              "</table>\n",
              "</div>\n",
              "      <button class=\"colab-df-convert\" onclick=\"convertToInteractive('df-1ebb8070-6844-48db-bad5-f53a1dc38059')\"\n",
              "              title=\"Convert this dataframe to an interactive table.\"\n",
              "              style=\"display:none;\">\n",
              "        \n",
              "  <svg xmlns=\"http://www.w3.org/2000/svg\" height=\"24px\"viewBox=\"0 0 24 24\"\n",
              "       width=\"24px\">\n",
              "    <path d=\"M0 0h24v24H0V0z\" fill=\"none\"/>\n",
              "    <path d=\"M18.56 5.44l.94 2.06.94-2.06 2.06-.94-2.06-.94-.94-2.06-.94 2.06-2.06.94zm-11 1L8.5 8.5l.94-2.06 2.06-.94-2.06-.94L8.5 2.5l-.94 2.06-2.06.94zm10 10l.94 2.06.94-2.06 2.06-.94-2.06-.94-.94-2.06-.94 2.06-2.06.94z\"/><path d=\"M17.41 7.96l-1.37-1.37c-.4-.4-.92-.59-1.43-.59-.52 0-1.04.2-1.43.59L10.3 9.45l-7.72 7.72c-.78.78-.78 2.05 0 2.83L4 21.41c.39.39.9.59 1.41.59.51 0 1.02-.2 1.41-.59l7.78-7.78 2.81-2.81c.8-.78.8-2.07 0-2.86zM5.41 20L4 18.59l7.72-7.72 1.47 1.35L5.41 20z\"/>\n",
              "  </svg>\n",
              "      </button>\n",
              "      \n",
              "  <style>\n",
              "    .colab-df-container {\n",
              "      display:flex;\n",
              "      flex-wrap:wrap;\n",
              "      gap: 12px;\n",
              "    }\n",
              "\n",
              "    .colab-df-convert {\n",
              "      background-color: #E8F0FE;\n",
              "      border: none;\n",
              "      border-radius: 50%;\n",
              "      cursor: pointer;\n",
              "      display: none;\n",
              "      fill: #1967D2;\n",
              "      height: 32px;\n",
              "      padding: 0 0 0 0;\n",
              "      width: 32px;\n",
              "    }\n",
              "\n",
              "    .colab-df-convert:hover {\n",
              "      background-color: #E2EBFA;\n",
              "      box-shadow: 0px 1px 2px rgba(60, 64, 67, 0.3), 0px 1px 3px 1px rgba(60, 64, 67, 0.15);\n",
              "      fill: #174EA6;\n",
              "    }\n",
              "\n",
              "    [theme=dark] .colab-df-convert {\n",
              "      background-color: #3B4455;\n",
              "      fill: #D2E3FC;\n",
              "    }\n",
              "\n",
              "    [theme=dark] .colab-df-convert:hover {\n",
              "      background-color: #434B5C;\n",
              "      box-shadow: 0px 1px 3px 1px rgba(0, 0, 0, 0.15);\n",
              "      filter: drop-shadow(0px 1px 2px rgba(0, 0, 0, 0.3));\n",
              "      fill: #FFFFFF;\n",
              "    }\n",
              "  </style>\n",
              "\n",
              "      <script>\n",
              "        const buttonEl =\n",
              "          document.querySelector('#df-1ebb8070-6844-48db-bad5-f53a1dc38059 button.colab-df-convert');\n",
              "        buttonEl.style.display =\n",
              "          google.colab.kernel.accessAllowed ? 'block' : 'none';\n",
              "\n",
              "        async function convertToInteractive(key) {\n",
              "          const element = document.querySelector('#df-1ebb8070-6844-48db-bad5-f53a1dc38059');\n",
              "          const dataTable =\n",
              "            await google.colab.kernel.invokeFunction('convertToInteractive',\n",
              "                                                     [key], {});\n",
              "          if (!dataTable) return;\n",
              "\n",
              "          const docLinkHtml = 'Like what you see? Visit the ' +\n",
              "            '<a target=\"_blank\" href=https://colab.research.google.com/notebooks/data_table.ipynb>data table notebook</a>'\n",
              "            + ' to learn more about interactive tables.';\n",
              "          element.innerHTML = '';\n",
              "          dataTable['output_type'] = 'display_data';\n",
              "          await google.colab.output.renderOutput(dataTable, element);\n",
              "          const docLink = document.createElement('div');\n",
              "          docLink.innerHTML = docLinkHtml;\n",
              "          element.appendChild(docLink);\n",
              "        }\n",
              "      </script>\n",
              "    </div>\n",
              "  </div>\n",
              "  "
            ]
          },
          "metadata": {},
          "execution_count": 6
        }
      ],
      "source": [
        "datasets[\"ae_com\"].head()"
      ]
    },
    {
      "cell_type": "code",
      "execution_count": 7,
      "id": "7ee47d13",
      "metadata": {
        "colab": {
          "base_uri": "https://localhost:8080/",
          "height": 600
        },
        "id": "7ee47d13",
        "outputId": "43f2a948-1574-40ea-d084-a7d27ef52388"
      },
      "outputs": [
        {
          "output_type": "execute_result",
          "data": {
            "text/plain": [
              "                                        product_name      mrp    price  \\\n",
              "0  Calvin Klein Women's Sheer Marquisette Demi Un...  $36.00   $32.40    \n",
              "1                   Wacoal Embrace Lace Bikini Panty  $27.00   $27.00    \n",
              "2     Wacoal Women's Slimline Seamless Minimizer Bra  $65.00   $65.00    \n",
              "3     Hanky Panky Womens Signature Lace Retro V-Kini  $36.00   $36.00    \n",
              "4            Wacoal Women's Red Carpet Strapless Bra  $65.00   $65.00    \n",
              "\n",
              "                                             pdp_url    brand_name  \\\n",
              "0  https://www.amazon.com/-/dp/B01NAVD98J?th=1&psc=1  Calvin-Klein   \n",
              "1  https://www.amazon.com/-/dp/B0011YQFNK?th=1&psc=1        Wacoal   \n",
              "2  https://www.amazon.com/-/dp/B000T3606Q?th=1&psc=1        Wacoal   \n",
              "3  https://www.amazon.com/-/dp/B003Y6AX0Y?th=1&psc=1   Hanky-Panky   \n",
              "4  https://www.amazon.com/-/dp/B01CEBGQA0?th=1&psc=1        Wacoal   \n",
              "\n",
              "  product_category   retailer  \\\n",
              "0             Bras  Amazon US   \n",
              "1          Panties  Amazon US   \n",
              "2             Bras  Amazon US   \n",
              "3          Panties  Amazon US   \n",
              "4             Bras  Amazon US   \n",
              "\n",
              "                                         description  rating  review_count  \\\n",
              "0  An unlined demi cup bra featuring sheer, sexy ...     4.5            47   \n",
              "1  Embrace lace bikini offers great fit and match...     4.4            91   \n",
              "2  Seamless underwire minimizer bra gives great s...     4.3           298   \n",
              "3  All-day comfort describes this figure-flatteri...     4.4            46   \n",
              "4  Red Carpet full figure strapless fits great, s...     4.4           747   \n",
              "\n",
              "                                    style_attributes  \\\n",
              "0  [ 72% Nylon, 28% Elastane , Imported , hook an...   \n",
              "1  [ 100% Nylon , Imported , Hand Wash , 1.2\" hig...   \n",
              "2  [ Cups: 100% Polyester; Back: 71% Nylon, 29% S...   \n",
              "3  [ Made in USA , All-day comfort describes this...   \n",
              "4  [ 91% Nylon, 9% Spandex , Imported , hook and ...   \n",
              "\n",
              "                                         total_sizes  \\\n",
              "0  30B , 30C , 30D , 30DD , 32A , 32B , 32C , 32D...   \n",
              "1                   Small , Medium , Large , X-Large   \n",
              "2  32DD , 32DDD , 34C , 34D , 34DD , 34DDD , 36C ...   \n",
              "3                   Small , Medium , Large , X-Large   \n",
              "4  30D , 30DD , 30DDD , 30G , 32C , 32D , 32DD , ...   \n",
              "\n",
              "                                      available_size  color  \n",
              "0  30B , 30C , 30D , 30DD , 32B , 32C , 32D , 32D...   Bare  \n",
              "1                           Small , Medium , X-Large  Large  \n",
              "2  32DD , 32DDD , 34C , 34D , 34DD , 34DDD , 36C ...  Black  \n",
              "3                           Small , Medium , X-Large  Large  \n",
              "4  30D , 30DD , 30DDD , 30G , 32C , 32D , 32DD , ...  Pecan  "
            ],
            "text/html": [
              "\n",
              "  <div id=\"df-3143faf6-1f5a-4bff-b217-1884594ad881\">\n",
              "    <div class=\"colab-df-container\">\n",
              "      <div>\n",
              "<style scoped>\n",
              "    .dataframe tbody tr th:only-of-type {\n",
              "        vertical-align: middle;\n",
              "    }\n",
              "\n",
              "    .dataframe tbody tr th {\n",
              "        vertical-align: top;\n",
              "    }\n",
              "\n",
              "    .dataframe thead th {\n",
              "        text-align: right;\n",
              "    }\n",
              "</style>\n",
              "<table border=\"1\" class=\"dataframe\">\n",
              "  <thead>\n",
              "    <tr style=\"text-align: right;\">\n",
              "      <th></th>\n",
              "      <th>product_name</th>\n",
              "      <th>mrp</th>\n",
              "      <th>price</th>\n",
              "      <th>pdp_url</th>\n",
              "      <th>brand_name</th>\n",
              "      <th>product_category</th>\n",
              "      <th>retailer</th>\n",
              "      <th>description</th>\n",
              "      <th>rating</th>\n",
              "      <th>review_count</th>\n",
              "      <th>style_attributes</th>\n",
              "      <th>total_sizes</th>\n",
              "      <th>available_size</th>\n",
              "      <th>color</th>\n",
              "    </tr>\n",
              "  </thead>\n",
              "  <tbody>\n",
              "    <tr>\n",
              "      <th>0</th>\n",
              "      <td>Calvin Klein Women's Sheer Marquisette Demi Un...</td>\n",
              "      <td>$36.00</td>\n",
              "      <td>$32.40</td>\n",
              "      <td>https://www.amazon.com/-/dp/B01NAVD98J?th=1&amp;psc=1</td>\n",
              "      <td>Calvin-Klein</td>\n",
              "      <td>Bras</td>\n",
              "      <td>Amazon US</td>\n",
              "      <td>An unlined demi cup bra featuring sheer, sexy ...</td>\n",
              "      <td>4.5</td>\n",
              "      <td>47</td>\n",
              "      <td>[ 72% Nylon, 28% Elastane , Imported , hook an...</td>\n",
              "      <td>30B , 30C , 30D , 30DD , 32A , 32B , 32C , 32D...</td>\n",
              "      <td>30B , 30C , 30D , 30DD , 32B , 32C , 32D , 32D...</td>\n",
              "      <td>Bare</td>\n",
              "    </tr>\n",
              "    <tr>\n",
              "      <th>1</th>\n",
              "      <td>Wacoal Embrace Lace Bikini Panty</td>\n",
              "      <td>$27.00</td>\n",
              "      <td>$27.00</td>\n",
              "      <td>https://www.amazon.com/-/dp/B0011YQFNK?th=1&amp;psc=1</td>\n",
              "      <td>Wacoal</td>\n",
              "      <td>Panties</td>\n",
              "      <td>Amazon US</td>\n",
              "      <td>Embrace lace bikini offers great fit and match...</td>\n",
              "      <td>4.4</td>\n",
              "      <td>91</td>\n",
              "      <td>[ 100% Nylon , Imported , Hand Wash , 1.2\" hig...</td>\n",
              "      <td>Small , Medium , Large , X-Large</td>\n",
              "      <td>Small , Medium , X-Large</td>\n",
              "      <td>Large</td>\n",
              "    </tr>\n",
              "    <tr>\n",
              "      <th>2</th>\n",
              "      <td>Wacoal Women's Slimline Seamless Minimizer Bra</td>\n",
              "      <td>$65.00</td>\n",
              "      <td>$65.00</td>\n",
              "      <td>https://www.amazon.com/-/dp/B000T3606Q?th=1&amp;psc=1</td>\n",
              "      <td>Wacoal</td>\n",
              "      <td>Bras</td>\n",
              "      <td>Amazon US</td>\n",
              "      <td>Seamless underwire minimizer bra gives great s...</td>\n",
              "      <td>4.3</td>\n",
              "      <td>298</td>\n",
              "      <td>[ Cups: 100% Polyester; Back: 71% Nylon, 29% S...</td>\n",
              "      <td>32DD , 32DDD , 34C , 34D , 34DD , 34DDD , 36C ...</td>\n",
              "      <td>32DD , 32DDD , 34C , 34D , 34DD , 34DDD , 36C ...</td>\n",
              "      <td>Black</td>\n",
              "    </tr>\n",
              "    <tr>\n",
              "      <th>3</th>\n",
              "      <td>Hanky Panky Womens Signature Lace Retro V-Kini</td>\n",
              "      <td>$36.00</td>\n",
              "      <td>$36.00</td>\n",
              "      <td>https://www.amazon.com/-/dp/B003Y6AX0Y?th=1&amp;psc=1</td>\n",
              "      <td>Hanky-Panky</td>\n",
              "      <td>Panties</td>\n",
              "      <td>Amazon US</td>\n",
              "      <td>All-day comfort describes this figure-flatteri...</td>\n",
              "      <td>4.4</td>\n",
              "      <td>46</td>\n",
              "      <td>[ Made in USA , All-day comfort describes this...</td>\n",
              "      <td>Small , Medium , Large , X-Large</td>\n",
              "      <td>Small , Medium , X-Large</td>\n",
              "      <td>Large</td>\n",
              "    </tr>\n",
              "    <tr>\n",
              "      <th>4</th>\n",
              "      <td>Wacoal Women's Red Carpet Strapless Bra</td>\n",
              "      <td>$65.00</td>\n",
              "      <td>$65.00</td>\n",
              "      <td>https://www.amazon.com/-/dp/B01CEBGQA0?th=1&amp;psc=1</td>\n",
              "      <td>Wacoal</td>\n",
              "      <td>Bras</td>\n",
              "      <td>Amazon US</td>\n",
              "      <td>Red Carpet full figure strapless fits great, s...</td>\n",
              "      <td>4.4</td>\n",
              "      <td>747</td>\n",
              "      <td>[ 91% Nylon, 9% Spandex , Imported , hook and ...</td>\n",
              "      <td>30D , 30DD , 30DDD , 30G , 32C , 32D , 32DD , ...</td>\n",
              "      <td>30D , 30DD , 30DDD , 30G , 32C , 32D , 32DD , ...</td>\n",
              "      <td>Pecan</td>\n",
              "    </tr>\n",
              "  </tbody>\n",
              "</table>\n",
              "</div>\n",
              "      <button class=\"colab-df-convert\" onclick=\"convertToInteractive('df-3143faf6-1f5a-4bff-b217-1884594ad881')\"\n",
              "              title=\"Convert this dataframe to an interactive table.\"\n",
              "              style=\"display:none;\">\n",
              "        \n",
              "  <svg xmlns=\"http://www.w3.org/2000/svg\" height=\"24px\"viewBox=\"0 0 24 24\"\n",
              "       width=\"24px\">\n",
              "    <path d=\"M0 0h24v24H0V0z\" fill=\"none\"/>\n",
              "    <path d=\"M18.56 5.44l.94 2.06.94-2.06 2.06-.94-2.06-.94-.94-2.06-.94 2.06-2.06.94zm-11 1L8.5 8.5l.94-2.06 2.06-.94-2.06-.94L8.5 2.5l-.94 2.06-2.06.94zm10 10l.94 2.06.94-2.06 2.06-.94-2.06-.94-.94-2.06-.94 2.06-2.06.94z\"/><path d=\"M17.41 7.96l-1.37-1.37c-.4-.4-.92-.59-1.43-.59-.52 0-1.04.2-1.43.59L10.3 9.45l-7.72 7.72c-.78.78-.78 2.05 0 2.83L4 21.41c.39.39.9.59 1.41.59.51 0 1.02-.2 1.41-.59l7.78-7.78 2.81-2.81c.8-.78.8-2.07 0-2.86zM5.41 20L4 18.59l7.72-7.72 1.47 1.35L5.41 20z\"/>\n",
              "  </svg>\n",
              "      </button>\n",
              "      \n",
              "  <style>\n",
              "    .colab-df-container {\n",
              "      display:flex;\n",
              "      flex-wrap:wrap;\n",
              "      gap: 12px;\n",
              "    }\n",
              "\n",
              "    .colab-df-convert {\n",
              "      background-color: #E8F0FE;\n",
              "      border: none;\n",
              "      border-radius: 50%;\n",
              "      cursor: pointer;\n",
              "      display: none;\n",
              "      fill: #1967D2;\n",
              "      height: 32px;\n",
              "      padding: 0 0 0 0;\n",
              "      width: 32px;\n",
              "    }\n",
              "\n",
              "    .colab-df-convert:hover {\n",
              "      background-color: #E2EBFA;\n",
              "      box-shadow: 0px 1px 2px rgba(60, 64, 67, 0.3), 0px 1px 3px 1px rgba(60, 64, 67, 0.15);\n",
              "      fill: #174EA6;\n",
              "    }\n",
              "\n",
              "    [theme=dark] .colab-df-convert {\n",
              "      background-color: #3B4455;\n",
              "      fill: #D2E3FC;\n",
              "    }\n",
              "\n",
              "    [theme=dark] .colab-df-convert:hover {\n",
              "      background-color: #434B5C;\n",
              "      box-shadow: 0px 1px 3px 1px rgba(0, 0, 0, 0.15);\n",
              "      filter: drop-shadow(0px 1px 2px rgba(0, 0, 0, 0.3));\n",
              "      fill: #FFFFFF;\n",
              "    }\n",
              "  </style>\n",
              "\n",
              "      <script>\n",
              "        const buttonEl =\n",
              "          document.querySelector('#df-3143faf6-1f5a-4bff-b217-1884594ad881 button.colab-df-convert');\n",
              "        buttonEl.style.display =\n",
              "          google.colab.kernel.accessAllowed ? 'block' : 'none';\n",
              "\n",
              "        async function convertToInteractive(key) {\n",
              "          const element = document.querySelector('#df-3143faf6-1f5a-4bff-b217-1884594ad881');\n",
              "          const dataTable =\n",
              "            await google.colab.kernel.invokeFunction('convertToInteractive',\n",
              "                                                     [key], {});\n",
              "          if (!dataTable) return;\n",
              "\n",
              "          const docLinkHtml = 'Like what you see? Visit the ' +\n",
              "            '<a target=\"_blank\" href=https://colab.research.google.com/notebooks/data_table.ipynb>data table notebook</a>'\n",
              "            + ' to learn more about interactive tables.';\n",
              "          element.innerHTML = '';\n",
              "          dataTable['output_type'] = 'display_data';\n",
              "          await google.colab.output.renderOutput(dataTable, element);\n",
              "          const docLink = document.createElement('div');\n",
              "          docLink.innerHTML = docLinkHtml;\n",
              "          element.appendChild(docLink);\n",
              "        }\n",
              "      </script>\n",
              "    </div>\n",
              "  </div>\n",
              "  "
            ]
          },
          "metadata": {},
          "execution_count": 7
        }
      ],
      "source": [
        "datasets[\"amazon_com\"].head()"
      ]
    },
    {
      "cell_type": "markdown",
      "id": "3fe19d1a",
      "metadata": {
        "id": "3fe19d1a"
      },
      "source": [
        "### Joining all the datasets into one"
      ]
    },
    {
      "cell_type": "code",
      "execution_count": 8,
      "id": "0437759e",
      "metadata": {
        "id": "0437759e"
      },
      "outputs": [],
      "source": [
        "df = pd.concat(datasets.values())"
      ]
    },
    {
      "cell_type": "code",
      "execution_count": 9,
      "id": "578af627",
      "metadata": {
        "colab": {
          "base_uri": "https://localhost:8080/"
        },
        "id": "578af627",
        "outputId": "b36bd460-b827-4827-fce8-d5d29a53f46a"
      },
      "outputs": [
        {
          "output_type": "execute_result",
          "data": {
            "text/plain": [
              "(613143, 14)"
            ]
          },
          "metadata": {},
          "execution_count": 9
        }
      ],
      "source": [
        "df.shape"
      ]
    },
    {
      "cell_type": "code",
      "source": [
        "df[\"price\"].unique()"
      ],
      "metadata": {
        "colab": {
          "base_uri": "https://localhost:8080/"
        },
        "id": "_VEXnEhI131A",
        "outputId": "694db6fd-9f9c-4d66-e41c-41d3e9fa0975"
      },
      "id": "_VEXnEhI131A",
      "execution_count": 10,
      "outputs": [
        {
          "output_type": "execute_result",
          "data": {
            "text/plain": [
              "array(['12.50 USD', '9.50 USD', '7.50 USD', ..., 'Rp474.522', 'Rp543.294',\n",
              "       'Rp343.857'], dtype=object)"
            ]
          },
          "metadata": {},
          "execution_count": 10
        }
      ]
    },
    {
      "cell_type": "markdown",
      "id": "2bda135b",
      "metadata": {
        "id": "2bda135b"
      },
      "source": [
        "# Calculating statistics on the dataset"
      ]
    },
    {
      "cell_type": "markdown",
      "id": "ceb64a28",
      "metadata": {
        "id": "ceb64a28"
      },
      "source": [
        "## Unifying Victoria's Secret"
      ]
    },
    {
      "cell_type": "code",
      "source": [
        "def sust(st):\n",
        "  if \"ict\" in st:\n",
        "      return \"victoria's secret\"\n",
        "  else: return st"
      ],
      "metadata": {
        "id": "2HxJRi_qv0lm"
      },
      "id": "2HxJRi_qv0lm",
      "execution_count": 11,
      "outputs": []
    },
    {
      "cell_type": "code",
      "execution_count": 12,
      "id": "f5ceee6e",
      "metadata": {
        "id": "f5ceee6e"
      },
      "outputs": [],
      "source": [
        "def unify_victoria_secret(df):\n",
        "    \"\"\"\n",
        "    We want that all brands that are related to Victoria's Secret\n",
        "    have `victoria's secret` as their brand instead of what they\n",
        "    currently have.\n",
        "    \"\"\"\n",
        "    df_s = df.copy()\n",
        "    new_string = \"victoria's secret\"\n",
        "    # Write your code here\n",
        "\n",
        "    df_s[\"brand_name\"] = df_s[\"brand_name\"].apply(sust)\n",
        "    return df_s"
      ]
    },
    {
      "cell_type": "code",
      "source": [
        "df[\"brand_name\"]"
      ],
      "metadata": {
        "colab": {
          "base_uri": "https://localhost:8080/"
        },
        "id": "424O4rk2qqEl",
        "outputId": "4048a78a-1cad-401b-8cff-7d61e771877f"
      },
      "id": "424O4rk2qqEl",
      "execution_count": 13,
      "outputs": [
        {
          "output_type": "execute_result",
          "data": {
            "text/plain": [
              "0                     AERIE\n",
              "1                     AERIE\n",
              "2                     AERIE\n",
              "3                     AERIE\n",
              "4                     AERIE\n",
              "                ...        \n",
              "453381    Victoria's Secret\n",
              "453382    Victoria's Secret\n",
              "453383    Victoria's Secret\n",
              "453384    Victoria's Secret\n",
              "453385    Victoria's Secret\n",
              "Name: brand_name, Length: 613143, dtype: object"
            ]
          },
          "metadata": {},
          "execution_count": 13
        }
      ]
    },
    {
      "cell_type": "code",
      "execution_count": 14,
      "id": "890d091f",
      "metadata": {
        "id": "890d091f"
      },
      "outputs": [],
      "source": [
        "df_unified = unify_victoria_secret(df)"
      ]
    },
    {
      "cell_type": "code",
      "source": [
        "df_unified[\"brand_name\"]"
      ],
      "metadata": {
        "colab": {
          "base_uri": "https://localhost:8080/"
        },
        "id": "-LNUE0idxf_9",
        "outputId": "8943b677-e42a-4498-d752-42b14cd05636"
      },
      "id": "-LNUE0idxf_9",
      "execution_count": 15,
      "outputs": [
        {
          "output_type": "execute_result",
          "data": {
            "text/plain": [
              "0                     AERIE\n",
              "1                     AERIE\n",
              "2                     AERIE\n",
              "3                     AERIE\n",
              "4                     AERIE\n",
              "                ...        \n",
              "453381    victoria's secret\n",
              "453382    victoria's secret\n",
              "453383    victoria's secret\n",
              "453384    victoria's secret\n",
              "453385    victoria's secret\n",
              "Name: brand_name, Length: 613143, dtype: object"
            ]
          },
          "metadata": {},
          "execution_count": 15
        }
      ]
    },
    {
      "cell_type": "code",
      "execution_count": 16,
      "id": "598730c4",
      "metadata": {
        "colab": {
          "base_uri": "https://localhost:8080/"
        },
        "id": "598730c4",
        "outputId": "745c6acd-754a-4935-ef8b-4bd894891a8d"
      },
      "outputs": [
        {
          "output_type": "stream",
          "name": "stdout",
          "text": [
            "453453\n"
          ]
        }
      ],
      "source": [
        "answer_victoria_secret =df_unified[df_unified[\"brand_name\"] == \"victoria's secret\"].shape[0]\n",
        "print(answer_victoria_secret)"
      ]
    },
    {
      "cell_type": "markdown",
      "id": "d36474bf",
      "metadata": {
        "id": "d36474bf"
      },
      "source": [
        "## Cleaning up the price\n",
        "\n",
        "In this sectino we are going to transform the `price` column into a float column in USD dolars.\n",
        "\n",
        "For this, be careful of the different formats in the data.\n",
        "\n",
        "For simplicity, you might assume that all the prices are in USD dolars, regarding of the symbol of the currency used."
      ]
    },
    {
      "cell_type": "code",
      "source": [
        "df[\"price\"]"
      ],
      "metadata": {
        "colab": {
          "base_uri": "https://localhost:8080/"
        },
        "id": "OK7qbGYQ5nZE",
        "outputId": "5b906460-b6ae-44ee-cb4d-4f77e66cb94a"
      },
      "id": "OK7qbGYQ5nZE",
      "execution_count": 17,
      "outputs": [
        {
          "output_type": "execute_result",
          "data": {
            "text/plain": [
              "0         12.50 USD\n",
              "1         12.50 USD\n",
              "2         12.50 USD\n",
              "3         12.50 USD\n",
              "4         12.50 USD\n",
              "            ...    \n",
              "453381      $48.00 \n",
              "453382      $48.00 \n",
              "453383      $48.00 \n",
              "453384      $48.00 \n",
              "453385      $48.00 \n",
              "Name: price, Length: 613143, dtype: object"
            ]
          },
          "metadata": {},
          "execution_count": 17
        }
      ]
    },
    {
      "cell_type": "code",
      "source": [
        "n1=\"35.00\\n\\t\\t\\t\\t\\t            \\t\\t\\t\\t\\t\\t\\t\\t            \\t\\t\\t\\t\\t            \\t\\t\\t\\n\\t\\t\\t\\t\\t            \\t\\t\\n\\t\\t\\t\\t\\t\\t            \\t\\t\\t\\tNow\\xa0'\"\n",
        "float(n1.split(\"\\n\")[0])\n"
      ],
      "metadata": {
        "colab": {
          "base_uri": "https://localhost:8080/"
        },
        "id": "gJJ62Zl7zNO5",
        "outputId": "5ffa41b4-ad86-47d5-b587-75f090170844"
      },
      "id": "gJJ62Zl7zNO5",
      "execution_count": 18,
      "outputs": [
        {
          "output_type": "execute_result",
          "data": {
            "text/plain": [
              "35.0"
            ]
          },
          "metadata": {},
          "execution_count": 18
        }
      ]
    },
    {
      "cell_type": "code",
      "source": [
        "def clean(price):\n",
        "  if \"–\" in price:\n",
        "    return min(float(price.split(\"–\")[0].split(\"$\")[1].strip()),float(price.split(\"–\")[1].split(\"$\")[1].strip()))\n",
        "  elif \"-\" in price:\n",
        "    return min(float(price.split(\"-\")[0].split(\"$\")[1].strip()),float(price.split(\"-\")[1].split(\"$\")[1].strip()))\n",
        "  elif \"USD\" in price:\n",
        "    return float(price.strip().split()[0])\n",
        "  elif \"\\n\" in price:\n",
        "    return \n",
        "  elif \"$\" in price:\n",
        "    if \"\\n\" in price:\n",
        "      return float(price.strip().split(\"$\")[1].split(\"\\n\")[0])\n",
        "    else: return float(price.strip().split(\"$\")[1])\n",
        "  elif \"Rp\" in price:\n",
        "    return float(price.strip().split(\"p\")[1])"
      ],
      "metadata": {
        "id": "UV1G-aWIy9Oq"
      },
      "id": "UV1G-aWIy9Oq",
      "execution_count": 19,
      "outputs": []
    },
    {
      "cell_type": "code",
      "source": [
        "def ClearRangePrice(df):    \n",
        "    if \"\\t\" in df:\n",
        "        return df.replace(\"\\n\",\"\").replace(\"\\t\",\"\").strip().split('Now\\xa0')[1]\n",
        "    elif len(df)>=13:\n",
        "        return df.replace(\"–\",',').replace(\"-\",\",\").split(',')[0]   \n",
        "    else:\n",
        "        return df"
      ],
      "metadata": {
        "id": "1c3-UDP0Gdd-"
      },
      "id": "1c3-UDP0Gdd-",
      "execution_count": 20,
      "outputs": []
    },
    {
      "cell_type": "code",
      "source": [
        "def ClearNonDigit(df):   \n",
        "    clear = re.compile(r'[^\\d\\.]')\n",
        "    return clear.sub('', df)"
      ],
      "metadata": {
        "id": "llOJgbmKTHuW"
      },
      "id": "llOJgbmKTHuW",
      "execution_count": 21,
      "outputs": []
    },
    {
      "cell_type": "code",
      "execution_count": 22,
      "id": "ebc76714",
      "metadata": {
        "id": "ebc76714"
      },
      "outputs": [],
      "source": [
        "def clean_price(df):\n",
        "    \"\"\"\n",
        "    In this function we will transform the\n",
        "    `price` column into a column of floats.\n",
        "    In case a product has more than one price,\n",
        "    return the lowest one.\n",
        "    \"\"\"\n",
        "    \n",
        "    df[\"price\"] = df[\"price\"].apply(ClearRangePrice)\n",
        "    df[\"price\"] = df[\"price\"].apply(ClearNonDigit)\n",
        "    df['price'] = df['price'].astype('float')\n",
        "    return df\n"
      ]
    },
    {
      "cell_type": "code",
      "execution_count": 23,
      "id": "ae00d760",
      "metadata": {
        "id": "ae00d760"
      },
      "outputs": [],
      "source": [
        "df_clean = clean_price(df_unified)"
      ]
    },
    {
      "cell_type": "code",
      "execution_count": 24,
      "id": "c291e0d3",
      "metadata": {
        "colab": {
          "base_uri": "https://localhost:8080/"
        },
        "id": "c291e0d3",
        "outputId": "d2c15d45-dab4-4aa3-fcd1-30c8b30990d0"
      },
      "outputs": [
        {
          "output_type": "stream",
          "name": "stdout",
          "text": [
            "20191976.02\n"
          ]
        }
      ],
      "source": [
        "answer_unified_price_sum = df_clean[\"price\"].sum()\n",
        "print(answer_unified_price_sum)"
      ]
    },
    {
      "cell_type": "code",
      "execution_count": 25,
      "id": "1ecd5d68",
      "metadata": {
        "id": "1ecd5d68"
      },
      "outputs": [],
      "source": [
        "def low_high_product_mean(df):\n",
        "    \"\"\"\n",
        "    Finally, we will calculate `product_category` with the lowest and highest mean price\n",
        "    for the brand Victoria's Secret.\n",
        "    \"\"\"\n",
        "    df_prom = df_clean.groupby('product_category')['price'].mean()\n",
        "    lowest_mean = df_prom.sort_values()[0]\n",
        "    highest_mean = df_prom.sort_values()[-1]\n",
        "    # Write your code here\n",
        "    return lowest_mean,highest_mean"
      ]
    },
    {
      "cell_type": "code",
      "execution_count": 26,
      "id": "6c484a45",
      "metadata": {
        "colab": {
          "base_uri": "https://localhost:8080/"
        },
        "id": "6c484a45",
        "outputId": "a98ce402-3dc8-4f48-8565-d31d39341185"
      },
      "outputs": [
        {
          "output_type": "stream",
          "name": "stdout",
          "text": [
            "highest_mean 98.0\n"
          ]
        }
      ],
      "source": [
        "lowest_mean, highest_mean = low_high_product_mean(df_clean)\n",
        "assert np.allclose(lowest_mean, 3.6203030303030)\n",
        "print(\"highest_mean\", highest_mean)"
      ]
    },
    {
      "cell_type": "code",
      "execution_count": 26,
      "id": "42968e58",
      "metadata": {
        "id": "42968e58"
      },
      "outputs": [],
      "source": []
    },
    {
      "cell_type": "code",
      "execution_count": 27,
      "id": "6bc47c74",
      "metadata": {
        "colab": {
          "base_uri": "https://localhost:8080/"
        },
        "id": "6bc47c74",
        "outputId": "c57eed6d-96e1-4d77-9560-5406ba212b4b"
      },
      "outputs": [
        {
          "output_type": "stream",
          "name": "stdout",
          "text": [
            "|                    Task Name                     |       Status       |\n",
            "|--------------------------------------------------|--------------------|\n",
            "|--------------------------------------------------|--------------------|\n",
            "|                 victoria secret                  |      Correct       |\n",
            "|--------------------------------------------------|--------------------|\n",
            "|                price unification                 |      Correct       |\n",
            "|--------------------------------------------------|--------------------|\n",
            "|                   highest mean                   |      Correct       |\n",
            "|--------------------------------------------------|--------------------|\n"
          ]
        }
      ],
      "source": [
        "\n",
        "proposed_solution = {\n",
        "'attempt': {\n",
        "    'course_name': COURSE_NAME,\n",
        "    'exercise_name': EXERCISE_NAME,\n",
        "    'username': STUDENT_NAME,\n",
        "},\n",
        "'task_attempts': [\n",
        "         {\n",
        "            \"name\": \"victoria secret\",\n",
        "            \"answer\": str(answer_victoria_secret),\n",
        "         },\n",
        "         {\n",
        "            \"name\": \"price unification\",\n",
        "            \"answer\": str(answer_unified_price_sum),\n",
        "         },\n",
        "        {\n",
        "            \"name\": \"highest mean\",\n",
        "            \"answer\": str(highest_mean),\n",
        "         },\n",
        "]\n",
        "\n",
        "}\n",
        "check_solution(proposed_solution)\n",
        "    "
      ]
    },
    {
      "cell_type": "code",
      "source": [
        "#HIIIII"
      ],
      "metadata": {
        "id": "G8CVhJRyCOYV"
      },
      "id": "G8CVhJRyCOYV",
      "execution_count": 28,
      "outputs": []
    }
  ],
  "metadata": {
    "colab": {
      "provenance": []
    },
    "language_info": {
      "name": "python"
    },
    "kernelspec": {
      "name": "python3",
      "display_name": "Python 3"
    },
    "gpuClass": "standard"
  },
  "nbformat": 4,
  "nbformat_minor": 5
}